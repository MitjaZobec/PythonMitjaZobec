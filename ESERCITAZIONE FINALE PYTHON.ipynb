{
 "cells": [
  {
   "cell_type": "code",
   "execution_count": 1,
   "id": "abde2560-1623-4cda-a290-e3df23104c10",
   "metadata": {},
   "outputs": [],
   "source": [
    "import pandas as pd\n",
    "file_path = \"../PYTHON ESERCIZI/owid-covid-data.csv\"\n",
    "covid_db = pd.read_csv(file_path)"
   ]
  },
  {
   "cell_type": "markdown",
   "id": "ae5a5867-640d-4626-b6e1-f6f965128b16",
   "metadata": {},
   "source": [
    "Si richiede di verificare le dimensioni del dataset e i relativi metadati;"
   ]
  },
  {
   "cell_type": "code",
   "execution_count": 3,
   "id": "377fce85-8f38-4097-a58d-d290718a649b",
   "metadata": {},
   "outputs": [
    {
     "data": {
      "text/plain": [
       "(387302, 67)"
      ]
     },
     "execution_count": 3,
     "metadata": {},
     "output_type": "execute_result"
    }
   ],
   "source": [
    "covid_db.shape"
   ]
  },
  {
   "cell_type": "code",
   "execution_count": 5,
   "id": "9e14f2fe-eb08-410e-af4b-ce40fa791e31",
   "metadata": {},
   "outputs": [
    {
     "name": "stdout",
     "output_type": "stream",
     "text": [
      "<class 'pandas.core.frame.DataFrame'>\n",
      "RangeIndex: 387302 entries, 0 to 387301\n",
      "Data columns (total 67 columns):\n",
      " #   Column                                      Non-Null Count   Dtype  \n",
      "---  ------                                      --------------   -----  \n",
      " 0   iso_code                                    387302 non-null  object \n",
      " 1   continent                                   368758 non-null  object \n",
      " 2   location                                    387302 non-null  object \n",
      " 3   date                                        387302 non-null  object \n",
      " 4   total_cases                                 348333 non-null  float64\n",
      " 5   new_cases                                   376280 non-null  float64\n",
      " 6   new_cases_smoothed                          375050 non-null  float64\n",
      " 7   total_deaths                                326109 non-null  float64\n",
      " 8   new_deaths                                  376589 non-null  float64\n",
      " 9   new_deaths_smoothed                         375359 non-null  float64\n",
      " 10  total_cases_per_million                     348333 non-null  float64\n",
      " 11  new_cases_per_million                       376280 non-null  float64\n",
      " 12  new_cases_smoothed_per_million              375050 non-null  float64\n",
      " 13  total_deaths_per_million                    326109 non-null  float64\n",
      " 14  new_deaths_per_million                      376589 non-null  float64\n",
      " 15  new_deaths_smoothed_per_million             375359 non-null  float64\n",
      " 16  reproduction_rate                           184817 non-null  float64\n",
      " 17  icu_patients                                38653 non-null   float64\n",
      " 18  icu_patients_per_million                    38653 non-null   float64\n",
      " 19  hosp_patients                               40190 non-null   float64\n",
      " 20  hosp_patients_per_million                   40190 non-null   float64\n",
      " 21  weekly_icu_admissions                       10690 non-null   float64\n",
      " 22  weekly_icu_admissions_per_million           10690 non-null   float64\n",
      " 23  weekly_hosp_admissions                      24169 non-null   float64\n",
      " 24  weekly_hosp_admissions_per_million          24169 non-null   float64\n",
      " 25  total_tests                                 79387 non-null   float64\n",
      " 26  new_tests                                   75403 non-null   float64\n",
      " 27  total_tests_per_thousand                    79387 non-null   float64\n",
      " 28  new_tests_per_thousand                      75403 non-null   float64\n",
      " 29  new_tests_smoothed                          103965 non-null  float64\n",
      " 30  new_tests_smoothed_per_thousand             103965 non-null  float64\n",
      " 31  positive_rate                               95927 non-null   float64\n",
      " 32  tests_per_case                              94348 non-null   float64\n",
      " 33  tests_units                                 106788 non-null  object \n",
      " 34  total_vaccinations                          83343 non-null   float64\n",
      " 35  people_vaccinated                           79221 non-null   float64\n",
      " 36  people_fully_vaccinated                     76104 non-null   float64\n",
      " 37  total_boosters                              51529 non-null   float64\n",
      " 38  new_vaccinations                            69077 non-null   float64\n",
      " 39  new_vaccinations_smoothed                   190077 non-null  float64\n",
      " 40  total_vaccinations_per_hundred              83343 non-null   float64\n",
      " 41  people_vaccinated_per_hundred               79221 non-null   float64\n",
      " 42  people_fully_vaccinated_per_hundred         76104 non-null   float64\n",
      " 43  total_boosters_per_hundred                  51529 non-null   float64\n",
      " 44  new_vaccinations_smoothed_per_million       190077 non-null  float64\n",
      " 45  new_people_vaccinated_smoothed              187438 non-null  float64\n",
      " 46  new_people_vaccinated_smoothed_per_hundred  187438 non-null  float64\n",
      " 47  stringency_index                            197292 non-null  float64\n",
      " 48  population_density                          329286 non-null  float64\n",
      " 49  median_age                                  306091 non-null  float64\n",
      " 50  aged_65_older                               295538 non-null  float64\n",
      " 51  aged_70_older                               303023 non-null  float64\n",
      " 52  gdp_per_capita                              300128 non-null  float64\n",
      " 53  extreme_poverty                             193468 non-null  float64\n",
      " 54  cardiovasc_death_rate                       300714 non-null  float64\n",
      " 55  diabetes_prevalence                         316219 non-null  float64\n",
      " 56  female_smokers                              225734 non-null  float64\n",
      " 57  male_smokers                                222666 non-null  float64\n",
      " 58  handwashing_facilities                      147329 non-null  float64\n",
      " 59  hospital_beds_per_thousand                  265618 non-null  float64\n",
      " 60  life_expectancy                             356713 non-null  float64\n",
      " 61  human_development_index                     291675 non-null  float64\n",
      " 62  population                                  387302 non-null  float64\n",
      " 63  excess_mortality_cumulative_absolute        13187 non-null   float64\n",
      " 64  excess_mortality_cumulative                 13187 non-null   float64\n",
      " 65  excess_mortality                            13187 non-null   float64\n",
      " 66  excess_mortality_cumulative_per_million     13187 non-null   float64\n",
      "dtypes: float64(62), object(5)\n",
      "memory usage: 198.0+ MB\n"
     ]
    }
   ],
   "source": [
    "covid_db.info()"
   ]
  },
  {
   "cell_type": "code",
   "execution_count": 2,
   "id": "17daf8a0-fcef-4a40-8ba8-89a922e1e5e5",
   "metadata": {},
   "outputs": [
    {
     "data": {
      "text/plain": [
       "iso_code                                    object\n",
       "continent                                   object\n",
       "location                                    object\n",
       "date                                        object\n",
       "total_cases                                float64\n",
       "                                            ...   \n",
       "population                                 float64\n",
       "excess_mortality_cumulative_absolute       float64\n",
       "excess_mortality_cumulative                float64\n",
       "excess_mortality                           float64\n",
       "excess_mortality_cumulative_per_million    float64\n",
       "Length: 67, dtype: object"
      ]
     },
     "execution_count": 2,
     "metadata": {},
     "output_type": "execute_result"
    }
   ],
   "source": [
    "covid_db.dtypes"
   ]
  },
  {
   "cell_type": "markdown",
   "id": "984af6cf-2942-41b1-9eb6-203f11e32995",
   "metadata": {},
   "source": [
    "Si chiede poi per ogni continente di trovare il numero di casi totali avvenuti in quello stesso continente; \n",
    "si chiede di non considerare eventuali locazioni che nel dataset non appartengono ad alcun continente;"
   ]
  },
  {
   "cell_type": "code",
   "execution_count": 4,
   "id": "9804a6db-f15e-46c8-9b9d-24865528302b",
   "metadata": {},
   "outputs": [
    {
     "data": {
      "text/plain": [
       "continent\n",
       "Africa            13141282.0\n",
       "Asia             301446461.0\n",
       "Europe           252376812.0\n",
       "North America    124530643.0\n",
       "Oceania           14808170.0\n",
       "South America     68718448.0\n",
       "Name: new_cases, dtype: float64"
      ]
     },
     "execution_count": 4,
     "metadata": {},
     "output_type": "execute_result"
    }
   ],
   "source": [
    "covid_db.groupby(\"continent\")[\"new_cases\"].sum()"
   ]
  },
  {
   "cell_type": "markdown",
   "id": "ea942cc8-da15-4b41-9829-1f5e8b79f820",
   "metadata": {},
   "source": [
    "VERIFICANDO IL DATASET LE RIGHE CON CONTINENTE VUOTO  RIASSUMONO STATISTICHE PER CONTINENTE, MONDO E REDDITO. CONSIDERATO CHE NON VIENE VISUALIZZATO NEL CALCOLO, NON LO GESTISCO"
   ]
  },
  {
   "cell_type": "markdown",
   "id": "ab6e1c08-208d-4414-93c8-fc0641b492e3",
   "metadata": {},
   "source": [
    "Sempre riguardo i casi totali, si chiede di scrivere del codice che, date due variabili contenenti i nomi di continenti, ne confronti i seguenti relativi descrittori statistici: valore massimo, media, e percentuale rispetto al numero dei casi totali nel mondo (calcolati anche sulle locazioni senza indicazione di continente);"
   ]
  },
  {
   "cell_type": "code",
   "execution_count": 73,
   "id": "5b5cda1e-f957-4c8f-b761-4f35321a66ec",
   "metadata": {},
   "outputs": [
    {
     "name": "stdin",
     "output_type": "stream",
     "text": [
      "Inserire continente_1:  Asia\n",
      "Inserire continente_2:  Africa\n"
     ]
    },
    {
     "data": {
      "text/html": [
       "<div>\n",
       "<style scoped>\n",
       "    .dataframe tbody tr th:only-of-type {\n",
       "        vertical-align: middle;\n",
       "    }\n",
       "\n",
       "    .dataframe tbody tr th {\n",
       "        vertical-align: top;\n",
       "    }\n",
       "\n",
       "    .dataframe thead th {\n",
       "        text-align: right;\n",
       "    }\n",
       "</style>\n",
       "<table border=\"1\" class=\"dataframe\">\n",
       "  <thead>\n",
       "    <tr style=\"text-align: right;\">\n",
       "      <th></th>\n",
       "      <th>Asia</th>\n",
       "      <th>Africa</th>\n",
       "    </tr>\n",
       "  </thead>\n",
       "  <tbody>\n",
       "    <tr>\n",
       "      <th>Casi giornalieri max</th>\n",
       "      <td>4.214242e+07</td>\n",
       "      <td>316014.000000</td>\n",
       "    </tr>\n",
       "    <tr>\n",
       "      <th>Media giornaliera</th>\n",
       "      <td>1.965101e+05</td>\n",
       "      <td>8566.676662</td>\n",
       "    </tr>\n",
       "    <tr>\n",
       "      <th>% vs Tot World</th>\n",
       "      <td>3.889519e-01</td>\n",
       "      <td>0.016956</td>\n",
       "    </tr>\n",
       "  </tbody>\n",
       "</table>\n",
       "</div>"
      ],
      "text/plain": [
       "                              Asia         Africa\n",
       "Casi giornalieri max  4.214242e+07  316014.000000\n",
       "Media giornaliera     1.965101e+05    8566.676662\n",
       "% vs Tot World        3.889519e-01       0.016956"
      ]
     },
     "execution_count": 73,
     "metadata": {},
     "output_type": "execute_result"
    }
   ],
   "source": [
    "continente_1 = input(\"Inserire continente_1: \")\n",
    "continente_2 = input(\"Inserire continente_2: \")\n",
    "continente_1_max = covid_db[covid_db[\"location\"] == (continente_1)][\"new_cases\"].max()\n",
    "continente_1_mean = covid_db[covid_db[\"location\"] == (continente_1)][\"new_cases\"].mean()\n",
    "continente_1_tot = covid_db[covid_db[\"location\"] == (continente_1)][\"new_cases\"].sum()\n",
    "continente_2_max = covid_db[covid_db[\"location\"] == (continente_2)][\"new_cases\"].max()\n",
    "continente_2_mean = covid_db[covid_db[\"location\"] == (continente_2)][\"new_cases\"].mean()\n",
    "continente_2_tot = covid_db[covid_db[\"location\"] == (continente_2)][\"new_cases\"].sum()\n",
    "world_max = covid_db[covid_db[\"location\"] == \"World\"][\"new_cases\"].max()\n",
    "world_mean = covid_db[covid_db[\"location\"] == \"World\"][\"new_cases\"].mean()\n",
    "world_tot = covid_db[covid_db[\"location\"] == \"World\"][\"new_cases\"].sum()\n",
    "perc_tot1 = continente_1_tot / world_tot\n",
    "perc_tot2 = continente_2_tot / world_tot\n",
    "\n",
    "data = {(continente_1): [(continente_1_max), (continente_1_mean), (perc_tot1)],\n",
    "        (continente_2): [(continente_2_max), (continente_2_mean), (perc_tot2)]}\n",
    "\n",
    "statistiche = pd.DataFrame(data, index=[\"Casi giornalieri max\", \"Media giornaliera\", \"% vs Tot World\"])\n",
    "\n",
    "statistiche"
   ]
  },
  {
   "cell_type": "markdown",
   "id": "bddaf23a-782d-42ca-b83a-5afe97ce9622",
   "metadata": {},
   "source": [
    "Selezionare i dati relativi all'Italia nel 2022, e mostrare con un grafico adeguato l'evoluzione del casi totali rispetto alla data. Mostrare poi con un grafico adeguato il numero di nuovi casi rispetto alla data (filtrare i dati se necessario). Mostrare infine un grafico che mostra l'andamento della somma cumulativa nuovi casi del 2022, e commentare se ci sono similarità con l'andamento del numero dei casi totali;"
   ]
  },
  {
   "cell_type": "code",
   "execution_count": 11,
   "id": "d3a9d4ac-c9d5-461e-b6e6-3259bfb236b0",
   "metadata": {},
   "outputs": [],
   "source": [
    "covid_db[\"date\"] = pd.to_datetime(covid_db[\"date\"])"
   ]
  },
  {
   "cell_type": "code",
   "execution_count": 12,
   "id": "9f6a9fa3-0582-4b9e-b4ba-eb551629477d",
   "metadata": {},
   "outputs": [
    {
     "data": {
      "text/plain": [
       "iso_code                                           object\n",
       "continent                                          object\n",
       "location                                           object\n",
       "date                                       datetime64[ns]\n",
       "total_cases                                       float64\n",
       "                                                ...      \n",
       "population                                        float64\n",
       "excess_mortality_cumulative_absolute              float64\n",
       "excess_mortality_cumulative                       float64\n",
       "excess_mortality                                  float64\n",
       "excess_mortality_cumulative_per_million           float64\n",
       "Length: 67, dtype: object"
      ]
     },
     "execution_count": 12,
     "metadata": {},
     "output_type": "execute_result"
    }
   ],
   "source": [
    "covid_db.dtypes"
   ]
  },
  {
   "cell_type": "code",
   "execution_count": 13,
   "id": "30fda6cd-ce69-410e-b603-9d9b83fdcf7c",
   "metadata": {},
   "outputs": [],
   "source": [
    "covid_db[\"yearday\"] = covid_db[\"date\"].dt.dayofyear"
   ]
  },
  {
   "cell_type": "code",
   "execution_count": 14,
   "id": "3a708260-2f2b-4f84-893b-80c19eed3886",
   "metadata": {},
   "outputs": [],
   "source": [
    "covid_db[\"year\"] = covid_db[\"date\"].dt.year"
   ]
  },
  {
   "cell_type": "code",
   "execution_count": 24,
   "id": "193e11c6-8b28-4628-8140-443bcc9bee72",
   "metadata": {},
   "outputs": [
    {
     "data": {
      "text/plain": [
       "19438072.0"
      ]
     },
     "execution_count": 24,
     "metadata": {},
     "output_type": "execute_result"
    }
   ],
   "source": [
    "italy22 = covid_db[(covid_db[\"location\"] == \"Italy\") & (covid_db[\"year\"] == 2022)]\n",
    "totale_italy22 = italy22[\"new_cases\"].sum()\n",
    "totale_italy22"
   ]
  },
  {
   "cell_type": "code",
   "execution_count": 26,
   "id": "721f97e9-03ed-425c-86c5-8fb6bdb435a7",
   "metadata": {},
   "outputs": [],
   "source": [
    "import seaborn as sns"
   ]
  },
  {
   "cell_type": "code",
   "execution_count": 28,
   "id": "4f69dc4c-763a-4c05-a4e9-2f9595e03be6",
   "metadata": {},
   "outputs": [
    {
     "name": "stderr",
     "output_type": "stream",
     "text": [
      "C:\\Users\\zobom\\anaconda3\\Lib\\site-packages\\seaborn\\_oldcore.py:1119: FutureWarning: use_inf_as_na option is deprecated and will be removed in a future version. Convert inf values to NaN before operating instead.\n",
      "  with pd.option_context('mode.use_inf_as_na', True):\n",
      "C:\\Users\\zobom\\anaconda3\\Lib\\site-packages\\seaborn\\_oldcore.py:1119: FutureWarning: use_inf_as_na option is deprecated and will be removed in a future version. Convert inf values to NaN before operating instead.\n",
      "  with pd.option_context('mode.use_inf_as_na', True):\n"
     ]
    },
    {
     "data": {
      "text/plain": [
       "<Axes: xlabel='yearday', ylabel='total_cases'>"
      ]
     },
     "execution_count": 28,
     "metadata": {},
     "output_type": "execute_result"
    },
    {
     "data": {
      "image/png": "[encoded data removed]",
      "text/plain": [
       "<Figure size 640x480 with 1 Axes>"
      ]
     },
     "metadata": {},
     "output_type": "display_data"
    }
   ],
   "source": [
    "sns.lineplot(data=italy22, x=\"yearday\", y = \"total_cases\")"
   ]
  },
  {
   "cell_type": "code",
   "execution_count": 31,
   "id": "ac5d5bd3-6128-4901-a532-e7a83f5580cc",
   "metadata": {},
   "outputs": [
    {
     "name": "stderr",
     "output_type": "stream",
     "text": [
      "C:\\Users\\zobom\\anaconda3\\Lib\\site-packages\\seaborn\\_oldcore.py:1119: FutureWarning: use_inf_as_na option is deprecated and will be removed in a future version. Convert inf values to NaN before operating instead.\n",
      "  with pd.option_context('mode.use_inf_as_na', True):\n",
      "C:\\Users\\zobom\\anaconda3\\Lib\\site-packages\\seaborn\\_oldcore.py:1119: FutureWarning: use_inf_as_na option is deprecated and will be removed in a future version. Convert inf values to NaN before operating instead.\n",
      "  with pd.option_context('mode.use_inf_as_na', True):\n"
     ]
    },
    {
     "data": {
      "text/plain": [
       "<Axes: xlabel='yearday', ylabel='new_cases'>"
      ]
     },
     "execution_count": 31,
     "metadata": {},
     "output_type": "execute_result"
    },
    {
     "data": {
      "image/png": "[encoded data removed]",
      "text/plain": [
       "<Figure size 640x480 with 1 Axes>"
      ]
     },
     "metadata": {},
     "output_type": "display_data"
    }
   ],
   "source": [
    "sns.lineplot(data=italy22, x=\"yearday\", y=\"new_cases\")"
   ]
  },
  {
   "cell_type": "code",
   "execution_count": 29,
   "id": "7eb5ffe4-dc60-426d-bfb5-d15f5e16cff8",
   "metadata": {},
   "outputs": [
    {
     "name": "stderr",
     "output_type": "stream",
     "text": [
      "C:\\Users\\zobom\\AppData\\Local\\Temp\\ipykernel_10280\\2344165390.py:1: SettingWithCopyWarning: \n",
      "A value is trying to be set on a copy of a slice from a DataFrame.\n",
      "Try using .loc[row_indexer,col_indexer] = value instead\n",
      "\n",
      "See the caveats in the documentation: https://pandas.pydata.org/pandas-docs/stable/user_guide/indexing.html#returning-a-view-versus-a-copy\n",
      "  italy22[\"new_cases_cum\"]= italy22[\"new_cases\"].cumsum()\n"
     ]
    }
   ],
   "source": [
    "italy22[\"new_cases_cum\"]= italy22[\"new_cases\"].cumsum()"
   ]
  },
  {
   "cell_type": "code",
   "execution_count": 39,
   "id": "537f07c8-d599-4724-a9ed-4d5283d660fa",
   "metadata": {},
   "outputs": [
    {
     "data": {
      "text/plain": [
       "iso_code                                           object\n",
       "continent                                          object\n",
       "location                                           object\n",
       "date                                       datetime64[ns]\n",
       "total_cases                                       float64\n",
       "                                                ...      \n",
       "excess_mortality                                  float64\n",
       "excess_mortality_cumulative_per_million           float64\n",
       "yearday                                             int32\n",
       "year                                                int32\n",
       "new_cases_cum                                     float64\n",
       "Length: 70, dtype: object"
      ]
     },
     "execution_count": 39,
     "metadata": {},
     "output_type": "execute_result"
    }
   ],
   "source": [
    "italy22.dtypes"
   ]
  },
  {
   "cell_type": "code",
   "execution_count": 40,
   "id": "d81cbff7-a907-4574-b70f-ef96bb26fd1a",
   "metadata": {},
   "outputs": [
    {
     "name": "stderr",
     "output_type": "stream",
     "text": [
      "C:\\Users\\zobom\\anaconda3\\Lib\\site-packages\\seaborn\\_oldcore.py:1119: FutureWarning: use_inf_as_na option is deprecated and will be removed in a future version. Convert inf values to NaN before operating instead.\n",
      "  with pd.option_context('mode.use_inf_as_na', True):\n",
      "C:\\Users\\zobom\\anaconda3\\Lib\\site-packages\\seaborn\\_oldcore.py:1119: FutureWarning: use_inf_as_na option is deprecated and will be removed in a future version. Convert inf values to NaN before operating instead.\n",
      "  with pd.option_context('mode.use_inf_as_na', True):\n"
     ]
    },
    {
     "data": {
      "text/plain": [
       "<Axes: xlabel='yearday', ylabel='new_cases_cum'>"
      ]
     },
     "execution_count": 40,
     "metadata": {},
     "output_type": "execute_result"
    },
    {
     "data": {
      "image/png": "[encoded data removed]",
      "text/plain": [
       "<Figure size 640x480 with 1 Axes>"
      ]
     },
     "metadata": {},
     "output_type": "display_data"
    }
   ],
   "source": [
    "sns.lineplot(data=italy22, x=\"yearday\", y=\"new_cases_cum\")"
   ]
  },
  {
   "cell_type": "markdown",
   "id": "43317e40-835d-4e4a-b772-ddb1b3a21f33",
   "metadata": {},
   "source": [
    " CI SONO SIMILARITA' TRA I DATI TOTALI E I DATI CUMULATIVI 2022. I CASI TOTALI SONO I DATI CUMMULATIVI DA INIZIO PANDEMIA"
   ]
  },
  {
   "cell_type": "markdown",
   "id": "810b4ab1-de5b-4769-a724-ff8c3487a854",
   "metadata": {},
   "source": [
    "Riguardo le nazioni di Italia, Germania e Francia, mostrare in un boxplot la differenza tra queste nazioni riguardo il numero di pazienti in terapia intensiva (Intensive Care Unit, ICU) da maggio 2022 (incluso) ad aprile 2023 (incluso), e scrivere un breve commento a riguardo;"
   ]
  },
  {
   "cell_type": "code",
   "execution_count": 65,
   "id": "80e85f76-9ca1-4d75-99ce-14f1b6fc6c7e",
   "metadata": {},
   "outputs": [
    {
     "data": {
      "text/plain": [
       "location\n",
       "France     334457.0\n",
       "Germany    373171.0\n",
       "Italy       84408.0\n",
       "Name: icu_patients, dtype: float64"
      ]
     },
     "execution_count": 65,
     "metadata": {},
     "output_type": "execute_result"
    }
   ],
   "source": [
    "period = covid_db[(covid_db[\"date\"] >= \"2022-05-01\") & (covid_db[\"date\"] <= \"2023-04-30\")]\n",
    "eur3 = period[(period[\"location\"] == \"Italy\") | (period[\"location\"] == \"Germany\") | (period[\"location\"] == \"France\")]\n",
    "eur3.groupby(\"location\")[\"icu_patients\"].sum()"
   ]
  },
  {
   "cell_type": "code",
   "execution_count": 62,
   "id": "94f683c7-f2f9-436d-8df3-5dec2df06a4c",
   "metadata": {},
   "outputs": [],
   "source": [
    "import seaborn as sns"
   ]
  },
  {
   "cell_type": "code",
   "execution_count": 66,
   "id": "0263a4a4-6f34-4cd7-a079-27d4a587336c",
   "metadata": {},
   "outputs": [
    {
     "data": {
      "text/plain": [
       "<Axes: xlabel='location', ylabel='icu_patients'>"
      ]
     },
     "execution_count": 66,
     "metadata": {},
     "output_type": "execute_result"
    },
    {
     "data": {
      "image/png": "[encoded data removed]",
      "text/plain": [
       "<Figure size 640x480 with 1 Axes>"
      ]
     },
     "metadata": {},
     "output_type": "display_data"
    }
   ],
   "source": [
    "sns.boxplot(data=eur3, x=\"location\", y= \"icu_patients\")"
   ]
  },
  {
   "cell_type": "markdown",
   "id": "a439ab75-bc7b-4a57-b47c-8c75ef37fbd7",
   "metadata": {},
   "source": [
    "L'ITALIA HA AVUTO UN NUMERO MINORE DI PAZIENTI IN TERAPIA INTENSIVA RISPETTO A GERMANIA E UK. LA VARIABILITA' IN UK E' STATA MAGGIORE"
   ]
  },
  {
   "cell_type": "markdown",
   "id": "7e63b71f-f5b2-4ffc-934a-45e74c869566",
   "metadata": {},
   "source": [
    "Riguardo le nazioni di Italia, Germania, Francia e Spagna nel 2023, mostrare la somma dei pazienti ospitalizzati per ognuna - se ci sono dati nulli, sugggerire se può essere possibile gestirli tramite sostituzione o meno."
   ]
  },
  {
   "cell_type": "code",
   "execution_count": 70,
   "id": "07f97cd6-d87e-46da-8108-ac5d9fa0e160",
   "metadata": {},
   "outputs": [
    {
     "data": {
      "text/plain": [
       "location\n",
       "France      80049.0\n",
       "Germany    124107.0\n",
       "Italy       41534.0\n",
       "Spain       20555.0\n",
       "Name: icu_patients, dtype: float64"
      ]
     },
     "execution_count": 70,
     "metadata": {},
     "output_type": "execute_result"
    }
   ],
   "source": [
    "period23 = covid_db[(covid_db[\"date\"] >= \"2023-01-01\") & (covid_db[\"date\"] <= \"2023-12-31\")]\n",
    "eur4 = period23[(period23[\"location\"] == \"Italy\") | (period23[\"location\"] == \"Germany\") | (period23[\"location\"] == \"France\") | (period23[\"location\"] == \"Spain\")]\n",
    "eur4.groupby(\"location\")[\"icu_patients\"].sum()"
   ]
  },
  {
   "cell_type": "markdown",
   "id": "76f29721-5c2f-4a53-981c-638676337789",
   "metadata": {},
   "source": [
    "CI SONO MOLTE RIGHE NULLE. CONSIDERATO CHE 2023 SIAMO USCITI DALLA CRISI, SAREBBE DA CAPIRE PRIMA COME IN GENERALE SONO STATI RACCOLTI I DATI"
   ]
  }
 ],
 "metadata": {
  "kernelspec": {
   "display_name": "Python 3 (ipykernel)",
   "language": "python",
   "name": "python3"
  },
  "language_info": {
   "codemirror_mode": {
    "name": "ipython",
    "version": 3
   },
   "file_extension": ".py",
   "mimetype": "text/x-python",
   "name": "python",
   "nbconvert_exporter": "python",
   "pygments_lexer": "ipython3",
   "version": "3.11.7"
  }
 },
 "nbformat": 4,
 "nbformat_minor": 5
}
